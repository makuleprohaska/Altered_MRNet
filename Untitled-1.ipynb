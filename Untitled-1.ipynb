{
 "cells": [
  {
   "cell_type": "code",
   "execution_count": 3,
   "metadata": {},
   "outputs": [],
   "source": [
    "import os\n",
    "import numpy as np\n",
    "import pandas as pd"
   ]
  },
  {
   "cell_type": "code",
   "execution_count": null,
   "metadata": {},
   "outputs": [
    {
     "name": "stdout",
     "output_type": "stream",
     "text": [
      "                                                  axial  \\\n",
      "0000  [[[0, 0, 0, 0, 0, 0, 0, 0, 0, 0, 0, 0, 0, 0, 0...   \n",
      "0001  [[[0, 0, 0, 0, 0, 0, 0, 0, 0, 0, 0, 0, 0, 0, 0...   \n",
      "0002  [[[0, 0, 0, 0, 0, 0, 0, 0, 0, 0, 0, 0, 0, 0, 0...   \n",
      "0003  [[[0, 0, 0, 0, 0, 0, 0, 0, 0, 0, 0, 0, 0, 0, 0...   \n",
      "0004  [[[0, 0, 0, 0, 0, 0, 0, 0, 0, 0, 0, 0, 0, 0, 0...   \n",
      "\n",
      "                                                coronal  \\\n",
      "0000  [[[0, 0, 0, 0, 0, 0, 0, 0, 0, 0, 0, 0, 0, 0, 0...   \n",
      "0001  [[[0, 0, 0, 0, 0, 1, 1, 1, 1, 0, 0, 1, 1, 1, 0...   \n",
      "0002  [[[0, 0, 0, 0, 0, 0, 0, 0, 0, 0, 0, 0, 0, 0, 0...   \n",
      "0003  [[[0, 0, 0, 0, 0, 0, 0, 0, 0, 0, 0, 0, 0, 0, 0...   \n",
      "0004  [[[0, 0, 0, 0, 0, 0, 0, 0, 0, 0, 0, 0, 0, 0, 0...   \n",
      "\n",
      "                                               sagittal  abnormal  acl  \\\n",
      "0000  [[[0, 0, 0, 0, 0, 0, 0, 0, 0, 0, 0, 0, 0, 0, 0...         1    0   \n",
      "0001  [[[0, 0, 0, 0, 0, 4, 9, 9, 11, 11, 11, 9, 10, ...         1    1   \n",
      "0002  [[[0, 0, 0, 0, 0, 0, 0, 0, 0, 0, 0, 0, 0, 0, 0...         1    0   \n",
      "0003  [[[6, 8, 9, 7, 8, 8, 7, 6, 6, 7, 6, 7, 7, 7, 1...         1    0   \n",
      "0004  [[[0, 0, 0, 0, 0, 0, 0, 0, 0, 0, 0, 0, 0, 0, 0...         1    0   \n",
      "\n",
      "      meniscus  \n",
      "0000         0  \n",
      "0001         1  \n",
      "0002         0  \n",
      "0003         1  \n",
      "0004         0  \n"
     ]
    }
   ],
   "source": [
    "\n",
    "\n",
    "# Local file path (in particular to train data)\n",
    "base_path = \"/Users/markoprohaska/Library/Mobile Documents/com~apple~CloudDocs/University/Semester_6/MRNet-v1.0\"\n",
    "train_path = os.path.join(base_path, \"train\")\n",
    "\n",
    "# Read labels from CSV files and extract the second column\n",
    "labels = {}\n",
    "for label_name in [\"abnormal\", \"acl\", \"meniscus\"]:\n",
    "    data = pd.read_csv(f\"{base_path}/train-{label_name}.csv\", header=None)\n",
    "    labels[label_name] = data.iloc[:, 1]  # Extract the second column (actual labels)\n",
    "\n",
    "# Dictionary to store dataset\n",
    "dataset = {}\n",
    "\n",
    "# Convert labels to floats (stored in 4 digit format)\n",
    "for i in range(10):  \n",
    "    sample_id = f\"{i:04d}\"\n",
    "    \n",
    "    # Load npy files from each plane\n",
    "    sample_data = {\n",
    "        \"axial\": np.load(os.path.join(train_path, \"axial\", f\"{sample_id}.npy\")),\n",
    "        \"coronal\": np.load(os.path.join(train_path, \"coronal\", f\"{sample_id}.npy\")),\n",
    "        \"sagittal\": np.load(os.path.join(train_path, \"sagittal\", f\"{sample_id}.npy\")),\n",
    "        \"abnormal\": labels[\"abnormal\"].iloc[i] if i < len(labels[\"abnormal\"]) else None,\n",
    "        \"acl\": labels[\"acl\"].iloc[i] if i < len(labels[\"acl\"]) else None,\n",
    "        \"meniscus\": labels[\"meniscus\"].iloc[i] if i < len(labels[\"meniscus\"]) else None,\n",
    "    }\n",
    "    \n",
    "    # Store in dictionary\n",
    "    dataset[sample_id] = sample_data  \n",
    "\n",
    "# Convert to DataFrame\n",
    "df = pd.DataFrame.from_dict(dataset, orient=\"index\")\n",
    "\n",
    "# Display the first few roww\n"
   ]
  },
  {
   "cell_type": "code",
   "execution_count": 59,
   "metadata": {},
   "outputs": [
    {
     "data": {
      "text/html": [
       "<div>\n",
       "<style scoped>\n",
       "    .dataframe tbody tr th:only-of-type {\n",
       "        vertical-align: middle;\n",
       "    }\n",
       "\n",
       "    .dataframe tbody tr th {\n",
       "        vertical-align: top;\n",
       "    }\n",
       "\n",
       "    .dataframe thead th {\n",
       "        text-align: right;\n",
       "    }\n",
       "</style>\n",
       "<table border=\"1\" class=\"dataframe\">\n",
       "  <thead>\n",
       "    <tr style=\"text-align: right;\">\n",
       "      <th></th>\n",
       "      <th>axial</th>\n",
       "      <th>coronal</th>\n",
       "      <th>sagittal</th>\n",
       "      <th>abnormal</th>\n",
       "      <th>acl</th>\n",
       "      <th>meniscus</th>\n",
       "    </tr>\n",
       "  </thead>\n",
       "  <tbody>\n",
       "    <tr>\n",
       "      <th>0000</th>\n",
       "      <td>[[[0, 0, 0, 0, 0, 0, 0, 0, 0, 0, 0, 0, 0, 0, 0...</td>\n",
       "      <td>[[[0, 0, 0, 0, 0, 0, 0, 0, 0, 0, 0, 0, 0, 0, 0...</td>\n",
       "      <td>[[[0, 0, 0, 0, 0, 0, 0, 0, 0, 0, 0, 0, 0, 0, 0...</td>\n",
       "      <td>1</td>\n",
       "      <td>0</td>\n",
       "      <td>0</td>\n",
       "    </tr>\n",
       "    <tr>\n",
       "      <th>0001</th>\n",
       "      <td>[[[0, 0, 0, 0, 0, 0, 0, 0, 0, 0, 0, 0, 0, 0, 0...</td>\n",
       "      <td>[[[0, 0, 0, 0, 0, 1, 1, 1, 1, 0, 0, 1, 1, 1, 0...</td>\n",
       "      <td>[[[0, 0, 0, 0, 0, 4, 9, 9, 11, 11, 11, 9, 10, ...</td>\n",
       "      <td>1</td>\n",
       "      <td>1</td>\n",
       "      <td>1</td>\n",
       "    </tr>\n",
       "    <tr>\n",
       "      <th>0002</th>\n",
       "      <td>[[[0, 0, 0, 0, 0, 0, 0, 0, 0, 0, 0, 0, 0, 0, 0...</td>\n",
       "      <td>[[[0, 0, 0, 0, 0, 0, 0, 0, 0, 0, 0, 0, 0, 0, 0...</td>\n",
       "      <td>[[[0, 0, 0, 0, 0, 0, 0, 0, 0, 0, 0, 0, 0, 0, 0...</td>\n",
       "      <td>1</td>\n",
       "      <td>0</td>\n",
       "      <td>0</td>\n",
       "    </tr>\n",
       "    <tr>\n",
       "      <th>0003</th>\n",
       "      <td>[[[0, 0, 0, 0, 0, 0, 0, 0, 0, 0, 0, 0, 0, 0, 0...</td>\n",
       "      <td>[[[0, 0, 0, 0, 0, 0, 0, 0, 0, 0, 0, 0, 0, 0, 0...</td>\n",
       "      <td>[[[6, 8, 9, 7, 8, 8, 7, 6, 6, 7, 6, 7, 7, 7, 1...</td>\n",
       "      <td>1</td>\n",
       "      <td>0</td>\n",
       "      <td>1</td>\n",
       "    </tr>\n",
       "    <tr>\n",
       "      <th>0004</th>\n",
       "      <td>[[[0, 0, 0, 0, 0, 0, 0, 0, 0, 0, 0, 0, 0, 0, 0...</td>\n",
       "      <td>[[[0, 0, 0, 0, 0, 0, 0, 0, 0, 0, 0, 0, 0, 0, 0...</td>\n",
       "      <td>[[[0, 0, 0, 0, 0, 0, 0, 0, 0, 0, 0, 0, 0, 0, 0...</td>\n",
       "      <td>1</td>\n",
       "      <td>0</td>\n",
       "      <td>0</td>\n",
       "    </tr>\n",
       "  </tbody>\n",
       "</table>\n",
       "</div>"
      ],
      "text/plain": [
       "                                                  axial  \\\n",
       "0000  [[[0, 0, 0, 0, 0, 0, 0, 0, 0, 0, 0, 0, 0, 0, 0...   \n",
       "0001  [[[0, 0, 0, 0, 0, 0, 0, 0, 0, 0, 0, 0, 0, 0, 0...   \n",
       "0002  [[[0, 0, 0, 0, 0, 0, 0, 0, 0, 0, 0, 0, 0, 0, 0...   \n",
       "0003  [[[0, 0, 0, 0, 0, 0, 0, 0, 0, 0, 0, 0, 0, 0, 0...   \n",
       "0004  [[[0, 0, 0, 0, 0, 0, 0, 0, 0, 0, 0, 0, 0, 0, 0...   \n",
       "\n",
       "                                                coronal  \\\n",
       "0000  [[[0, 0, 0, 0, 0, 0, 0, 0, 0, 0, 0, 0, 0, 0, 0...   \n",
       "0001  [[[0, 0, 0, 0, 0, 1, 1, 1, 1, 0, 0, 1, 1, 1, 0...   \n",
       "0002  [[[0, 0, 0, 0, 0, 0, 0, 0, 0, 0, 0, 0, 0, 0, 0...   \n",
       "0003  [[[0, 0, 0, 0, 0, 0, 0, 0, 0, 0, 0, 0, 0, 0, 0...   \n",
       "0004  [[[0, 0, 0, 0, 0, 0, 0, 0, 0, 0, 0, 0, 0, 0, 0...   \n",
       "\n",
       "                                               sagittal  abnormal  acl  \\\n",
       "0000  [[[0, 0, 0, 0, 0, 0, 0, 0, 0, 0, 0, 0, 0, 0, 0...         1    0   \n",
       "0001  [[[0, 0, 0, 0, 0, 4, 9, 9, 11, 11, 11, 9, 10, ...         1    1   \n",
       "0002  [[[0, 0, 0, 0, 0, 0, 0, 0, 0, 0, 0, 0, 0, 0, 0...         1    0   \n",
       "0003  [[[6, 8, 9, 7, 8, 8, 7, 6, 6, 7, 6, 7, 7, 7, 1...         1    0   \n",
       "0004  [[[0, 0, 0, 0, 0, 0, 0, 0, 0, 0, 0, 0, 0, 0, 0...         1    0   \n",
       "\n",
       "      meniscus  \n",
       "0000         0  \n",
       "0001         1  \n",
       "0002         0  \n",
       "0003         1  \n",
       "0004         0  "
      ]
     },
     "execution_count": 59,
     "metadata": {},
     "output_type": "execute_result"
    }
   ],
   "source": [
    "df.head()"
   ]
  },
  {
   "cell_type": "code",
   "execution_count": null,
   "metadata": {},
   "outputs": [],
   "source": []
  },
  {
   "cell_type": "code",
   "execution_count": 68,
   "metadata": {},
   "outputs": [
    {
     "name": "stderr",
     "output_type": "stream",
     "text": [
      "/var/folders/74/1m882dw111gc4jstp0g674q40000gn/T/ipykernel_85571/1039133361.py:1: FutureWarning: Series.__getitem__ treating keys as positions is deprecated. In a future version, integer keys will always be treated as labels (consistent with DataFrame behavior). To access a value by position, use `ser.iloc[pos]`\n",
      "  df['sagittal'][0000].shape\n"
     ]
    },
    {
     "data": {
      "text/plain": [
       "(36, 256, 256)"
      ]
     },
     "execution_count": 68,
     "metadata": {},
     "output_type": "execute_result"
    }
   ],
   "source": [
    "df['sagittal'][0000].shape"
   ]
  },
  {
   "cell_type": "code",
   "execution_count": null,
   "metadata": {},
   "outputs": [],
   "source": [
    "sample_df = pd.DataFrame()\n"
   ]
  }
 ],
 "metadata": {
  "kernelspec": {
   "display_name": "mrnet",
   "language": "python",
   "name": "python3"
  },
  "language_info": {
   "codemirror_mode": {
    "name": "ipython",
    "version": 3
   },
   "file_extension": ".py",
   "mimetype": "text/x-python",
   "name": "python",
   "nbconvert_exporter": "python",
   "pygments_lexer": "ipython3",
   "version": "3.12.9"
  }
 },
 "nbformat": 4,
 "nbformat_minor": 2
}
